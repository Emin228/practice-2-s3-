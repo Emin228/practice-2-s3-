{
 "cells": [
  {
   "cell_type": "markdown",
   "id": "022e38e7",
   "metadata": {},
   "source": [
    "Отчёт по заданию 2.2 Julia"
   ]
  },
  {
   "cell_type": "markdown",
   "id": "c3c142f4",
   "metadata": {},
   "source": [
    "1. Настройка среды\n",
    "Установка Julia 1.11.7\n",
    "from https://julialang.org\n",
    "\n",
    "Для работы с проектом использовались следующие инструменты:\n",
    "\n",
    "julia\n",
    "using RDatasets        # Загрузка стандартных датасетов\n",
    "using DataFrames       # Работа с табличными данными\n",
    "using Random           # Генерация случайных чисел\n",
    "using CategoricalArrays# Работа с категориальными переменными\n",
    "using DecisionTree     # Алгоритмы деревьев решений"
   ]
  },
  {
   "cell_type": "markdown",
   "id": "c0473ac5",
   "metadata": {},
   "source": [
    "2. Загрузка данных\n",
    "iris = dataset(\"datasets\", \"iris\")\n",
    "Датасет Iris содержит измерения 150 цветков ириса по 4 признакам:\n",
    "\n",
    "Длина чашелистика (SepalLength)\n",
    "\n",
    "Ширина чашелистика (SepalWidth)\n",
    "\n",
    "Длина лепестка (PetalLength)\n",
    "\n",
    "Ширина лепестка (PetalWidth)\n",
    "\n",
    "Целевая переменная: Species (вид ириса) - 3 класса:\n",
    "\n",
    "setosa\n",
    "\n",
    "versicolor\n",
    "\n",
    "virginica"
   ]
  },
  {
   "cell_type": "markdown",
   "id": "78fc9974",
   "metadata": {},
   "source": [
    "3. Разделение данных на обучающую и тестовую выборки\n",
    "70% — обучающая выборка (105 samples)\n",
    "30% — тестовая выборка (45 samples)\n",
    "\n",
    "julia\n",
    "Random.seed!(1234)  # Фиксируем случайность для воспроизводимости"
   ]
  },
  {
   "cell_type": "markdown",
   "id": "7170ea1a",
   "metadata": {},
   "source": [
    "4. Построение модели дерева решений\n",
    "julia\n",
    "model = DecisionTreeClassifier(max_depth=4)\n",
    "Параметр max_depth=4 ограничивает глубину дерева для предотвращения переобучения."
   ]
  },
  {
   "cell_type": "markdown",
   "id": "edb06897",
   "metadata": {},
   "source": [
    "5. Пример прогноза для нового цветка\n",
    "julia\n",
    "new_flower = [5.1, 3.5, 1.4, 0.2]  # Характеристики нового цветка\n",
    "Предсказанный вид: setosa"
   ]
  },
  {
   "cell_type": "code",
   "execution_count": 4,
   "id": "a4fc2302",
   "metadata": {},
   "outputs": [
    {
     "name": "stdout",
     "output_type": "stream",
     "text": [
      "Размер датасета: (150, 5)\n",
      "Классы: [\"setosa\", \"versicolor\", \"virginica\"]\n",
      "\n",
      "Размер обучающей выборки: (105, 4)\n",
      "Размер тестовой выборки: (45, 4)\n",
      "\n",
      "==================================================\n",
      "РЕЗУЛЬТАТЫ КЛАССИФИКАЦИИ\n",
      "==================================================\n",
      "Точность модели: 93.33%\n",
      "\n",
      "Матрица ошибок:\n",
      "Classes:  [\"setosa\", \"versicolor\", \"virginica\"]\n",
      "Matrix:   \n",
      "Accuracy: 0.9333333333333333\n",
      "Kappa:    0.8978046934140803\n",
      "\n",
      "Точность по классам:\n",
      "setosa: 100.0%\n",
      "versicolor: 100.0%\n",
      "virginica: 85.71%\n",
      "\n",
      "==================================================\n",
      "ПРИМЕР ПРОГНОЗА\n",
      "==================================================\n",
      "Новый цветок: [5.1, 3.5, 1.4, 0.2]\n",
      "Предсказанный вид: setosa\n"
     ]
    },
    {
     "data": {
      "text/plain": [
       "3×3 Matrix{Int64}:\n",
       " 14   0   0\n",
       "  0  10   0\n",
       "  0   3  18"
      ]
     },
     "metadata": {},
     "output_type": "display_data"
    }
   ],
   "source": [
    "using RDatasets\n",
    "using DataFrames\n",
    "using Random\n",
    "using CategoricalArrays\n",
    "using DecisionTree\n",
    "\n",
    "# Загружаем Iris dataset\n",
    "iris = dataset(\"datasets\", \"iris\")\n",
    "println(\"Размер датасета: \", size(iris))\n",
    "println(\"Классы: \", unique(iris.Species))\n",
    "\n",
    "y = iris.Species\n",
    "X = select(iris, Not(:Species))\n",
    "\n",
    "# Преобразуем в категориальный тип\n",
    "y_cat = categorical(y)\n",
    "\n",
    "# Разделение на train/test (70/30)\n",
    "Random.seed!(1234)\n",
    "n = nrow(iris)\n",
    "train_size = Int(round(0.7 * n))\n",
    "indices = shuffle(1:n)\n",
    "train_idx = indices[1:train_size]\n",
    "test_idx  = indices[train_size+1:end]\n",
    "\n",
    "X_train = Matrix(X[train_idx, :])\n",
    "y_train = y_cat[train_idx]\n",
    "X_test = Matrix(X[test_idx, :])\n",
    "y_test = y_cat[test_idx]\n",
    "\n",
    "println(\"\\nРазмер обучающей выборки: \", size(X_train))\n",
    "println(\"Размер тестовой выборки: \", size(X_test))\n",
    "\n",
    "# Обучаем модель DecisionTree\n",
    "model = DecisionTreeClassifier(max_depth=4)\n",
    "DecisionTree.fit!(model, X_train, y_train)\n",
    "\n",
    "# Предсказания\n",
    "y_pred = DecisionTree.predict(model, X_test)\n",
    "\n",
    "# Точность\n",
    "accuracy = sum(y_pred .== y_test) / length(y_test)\n",
    "println(\"\\n\" * \"=\"^50)\n",
    "println(\"РЕЗУЛЬТАТЫ КЛАССИФИКАЦИИ\")\n",
    "println(\"=\"^50)\n",
    "println(\"Точность модели: \", round(accuracy*100, digits=2), \"%\")\n",
    "\n",
    "# Матрица ошибок\n",
    "println(\"\\nМатрица ошибок:\")\n",
    "cm = DecisionTree.confusion_matrix(y_test, y_pred)\n",
    "println(cm)\n",
    "\n",
    "# Точность по классам\n",
    "println(\"\\nТочность по классам:\")\n",
    "classes = levels(y_cat)\n",
    "for class in classes\n",
    "    class_mask = y_test .== class\n",
    "    if sum(class_mask) > 0\n",
    "        class_accuracy = sum(y_pred[class_mask] .== y_test[class_mask]) / sum(class_mask)\n",
    "        println(\"$class: \", round(class_accuracy*100, digits=2), \"%\")\n",
    "    end\n",
    "end\n",
    "\n",
    "# Пример прогноза для нового цветка\n",
    "println(\"\\n\" * \"=\"^50)\n",
    "println(\"ПРИМЕР ПРОГНОЗА\")\n",
    "println(\"=\"^50)\n",
    "\n",
    "new_flower = [5.1, 3.5, 1.4, 0.2]'  # характеристики нового цветка\n",
    "new_pred = DecisionTree.predict(model, new_flower)\n",
    "println(\"Новый цветок: [5.1, 3.5, 1.4, 0.2]\")\n",
    "println(\"Предсказанный вид: \", new_pred[1])"
   ]
  },
  {
   "cell_type": "markdown",
   "id": "b59b369f",
   "metadata": {},
   "source": [
    "6. Выводы\n",
    "Модель дерева решений успешно решает задачу классификации видов ириса\n",
    "\n",
    "Наибольшее влияние на классификацию оказывают параметры лепестков\n",
    "\n",
    "Класс setosa легко отделяется от остальных, между versicolor и virginica возможна путаница\n",
    "\n",
    "Ограничение глубины дерева помогает избежать переобучения\n",
    "\n",
    "Разделение на train/test позволяет оценить реальную обобщающую способность модели"
   ]
  }
 ],
 "metadata": {
  "kernelspec": {
   "display_name": "Julia 1.11.7",
   "language": "julia",
   "name": "julia-1.11"
  },
  "language_info": {
   "file_extension": ".jl",
   "mimetype": "application/julia",
   "name": "julia",
   "version": "1.11.7"
  }
 },
 "nbformat": 4,
 "nbformat_minor": 5
}
